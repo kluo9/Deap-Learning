{
  "nbformat": 4,
  "nbformat_minor": 0,
  "metadata": {
    "colab": {
      "provenance": [],
      "authorship_tag": "ABX9TyOMNlBkUCgeHx9HOXLFnlHB",
      "include_colab_link": true
    },
    "kernelspec": {
      "name": "python3",
      "display_name": "Python 3"
    },
    "language_info": {
      "name": "python"
    },
    "accelerator": "GPU",
    "gpuClass": "standard"
  },
  "cells": [
    {
      "cell_type": "markdown",
      "metadata": {
        "id": "view-in-github",
        "colab_type": "text"
      },
      "source": [
        "<a href=\"https://colab.research.google.com/github/kluo9/Deap-Learning/blob/main/Speaker_identification_with_VoxCeleb_data.ipynb\" target=\"_parent\"><img src=\"https://colab.research.google.com/assets/colab-badge.svg\" alt=\"Open In Colab\"/></a>"
      ]
    },
    {
      "cell_type": "markdown",
      "source": [
        "# Task description\n",
        "- Classify the speakers of given features.\n",
        "- Main goal: Learn how to use transformer."
      ],
      "metadata": {
        "id": "TGahiqGP1jkj"
      }
    },
    {
      "cell_type": "markdown",
      "source": [
        "# Download dataset"
      ],
      "metadata": {
        "id": "dv50hxwr1wsJ"
      }
    },
    {
      "cell_type": "code",
      "execution_count": 1,
      "metadata": {
        "colab": {
          "base_uri": "https://localhost:8080/",
          "height": 73
        },
        "id": "6XSRKXvY1FOl",
        "outputId": "26784a7d-66c9-4e7f-8bce-b236eff8e48d"
      },
      "outputs": [
        {
          "output_type": "display_data",
          "data": {
            "text/plain": [
              "<IPython.core.display.HTML object>"
            ],
            "text/html": [
              "\n",
              "     <input type=\"file\" id=\"files-0fc917f4-48ee-4c9c-8e96-6d034152a31f\" name=\"files[]\" multiple disabled\n",
              "        style=\"border:none\" />\n",
              "     <output id=\"result-0fc917f4-48ee-4c9c-8e96-6d034152a31f\">\n",
              "      Upload widget is only available when the cell has been executed in the\n",
              "      current browser session. Please rerun this cell to enable.\n",
              "      </output>\n",
              "      <script>// Copyright 2017 Google LLC\n",
              "//\n",
              "// Licensed under the Apache License, Version 2.0 (the \"License\");\n",
              "// you may not use this file except in compliance with the License.\n",
              "// You may obtain a copy of the License at\n",
              "//\n",
              "//      http://www.apache.org/licenses/LICENSE-2.0\n",
              "//\n",
              "// Unless required by applicable law or agreed to in writing, software\n",
              "// distributed under the License is distributed on an \"AS IS\" BASIS,\n",
              "// WITHOUT WARRANTIES OR CONDITIONS OF ANY KIND, either express or implied.\n",
              "// See the License for the specific language governing permissions and\n",
              "// limitations under the License.\n",
              "\n",
              "/**\n",
              " * @fileoverview Helpers for google.colab Python module.\n",
              " */\n",
              "(function(scope) {\n",
              "function span(text, styleAttributes = {}) {\n",
              "  const element = document.createElement('span');\n",
              "  element.textContent = text;\n",
              "  for (const key of Object.keys(styleAttributes)) {\n",
              "    element.style[key] = styleAttributes[key];\n",
              "  }\n",
              "  return element;\n",
              "}\n",
              "\n",
              "// Max number of bytes which will be uploaded at a time.\n",
              "const MAX_PAYLOAD_SIZE = 100 * 1024;\n",
              "\n",
              "function _uploadFiles(inputId, outputId) {\n",
              "  const steps = uploadFilesStep(inputId, outputId);\n",
              "  const outputElement = document.getElementById(outputId);\n",
              "  // Cache steps on the outputElement to make it available for the next call\n",
              "  // to uploadFilesContinue from Python.\n",
              "  outputElement.steps = steps;\n",
              "\n",
              "  return _uploadFilesContinue(outputId);\n",
              "}\n",
              "\n",
              "// This is roughly an async generator (not supported in the browser yet),\n",
              "// where there are multiple asynchronous steps and the Python side is going\n",
              "// to poll for completion of each step.\n",
              "// This uses a Promise to block the python side on completion of each step,\n",
              "// then passes the result of the previous step as the input to the next step.\n",
              "function _uploadFilesContinue(outputId) {\n",
              "  const outputElement = document.getElementById(outputId);\n",
              "  const steps = outputElement.steps;\n",
              "\n",
              "  const next = steps.next(outputElement.lastPromiseValue);\n",
              "  return Promise.resolve(next.value.promise).then((value) => {\n",
              "    // Cache the last promise value to make it available to the next\n",
              "    // step of the generator.\n",
              "    outputElement.lastPromiseValue = value;\n",
              "    return next.value.response;\n",
              "  });\n",
              "}\n",
              "\n",
              "/**\n",
              " * Generator function which is called between each async step of the upload\n",
              " * process.\n",
              " * @param {string} inputId Element ID of the input file picker element.\n",
              " * @param {string} outputId Element ID of the output display.\n",
              " * @return {!Iterable<!Object>} Iterable of next steps.\n",
              " */\n",
              "function* uploadFilesStep(inputId, outputId) {\n",
              "  const inputElement = document.getElementById(inputId);\n",
              "  inputElement.disabled = false;\n",
              "\n",
              "  const outputElement = document.getElementById(outputId);\n",
              "  outputElement.innerHTML = '';\n",
              "\n",
              "  const pickedPromise = new Promise((resolve) => {\n",
              "    inputElement.addEventListener('change', (e) => {\n",
              "      resolve(e.target.files);\n",
              "    });\n",
              "  });\n",
              "\n",
              "  const cancel = document.createElement('button');\n",
              "  inputElement.parentElement.appendChild(cancel);\n",
              "  cancel.textContent = 'Cancel upload';\n",
              "  const cancelPromise = new Promise((resolve) => {\n",
              "    cancel.onclick = () => {\n",
              "      resolve(null);\n",
              "    };\n",
              "  });\n",
              "\n",
              "  // Wait for the user to pick the files.\n",
              "  const files = yield {\n",
              "    promise: Promise.race([pickedPromise, cancelPromise]),\n",
              "    response: {\n",
              "      action: 'starting',\n",
              "    }\n",
              "  };\n",
              "\n",
              "  cancel.remove();\n",
              "\n",
              "  // Disable the input element since further picks are not allowed.\n",
              "  inputElement.disabled = true;\n",
              "\n",
              "  if (!files) {\n",
              "    return {\n",
              "      response: {\n",
              "        action: 'complete',\n",
              "      }\n",
              "    };\n",
              "  }\n",
              "\n",
              "  for (const file of files) {\n",
              "    const li = document.createElement('li');\n",
              "    li.append(span(file.name, {fontWeight: 'bold'}));\n",
              "    li.append(span(\n",
              "        `(${file.type || 'n/a'}) - ${file.size} bytes, ` +\n",
              "        `last modified: ${\n",
              "            file.lastModifiedDate ? file.lastModifiedDate.toLocaleDateString() :\n",
              "                                    'n/a'} - `));\n",
              "    const percent = span('0% done');\n",
              "    li.appendChild(percent);\n",
              "\n",
              "    outputElement.appendChild(li);\n",
              "\n",
              "    const fileDataPromise = new Promise((resolve) => {\n",
              "      const reader = new FileReader();\n",
              "      reader.onload = (e) => {\n",
              "        resolve(e.target.result);\n",
              "      };\n",
              "      reader.readAsArrayBuffer(file);\n",
              "    });\n",
              "    // Wait for the data to be ready.\n",
              "    let fileData = yield {\n",
              "      promise: fileDataPromise,\n",
              "      response: {\n",
              "        action: 'continue',\n",
              "      }\n",
              "    };\n",
              "\n",
              "    // Use a chunked sending to avoid message size limits. See b/62115660.\n",
              "    let position = 0;\n",
              "    do {\n",
              "      const length = Math.min(fileData.byteLength - position, MAX_PAYLOAD_SIZE);\n",
              "      const chunk = new Uint8Array(fileData, position, length);\n",
              "      position += length;\n",
              "\n",
              "      const base64 = btoa(String.fromCharCode.apply(null, chunk));\n",
              "      yield {\n",
              "        response: {\n",
              "          action: 'append',\n",
              "          file: file.name,\n",
              "          data: base64,\n",
              "        },\n",
              "      };\n",
              "\n",
              "      let percentDone = fileData.byteLength === 0 ?\n",
              "          100 :\n",
              "          Math.round((position / fileData.byteLength) * 100);\n",
              "      percent.textContent = `${percentDone}% done`;\n",
              "\n",
              "    } while (position < fileData.byteLength);\n",
              "  }\n",
              "\n",
              "  // All done.\n",
              "  yield {\n",
              "    response: {\n",
              "      action: 'complete',\n",
              "    }\n",
              "  };\n",
              "}\n",
              "\n",
              "scope.google = scope.google || {};\n",
              "scope.google.colab = scope.google.colab || {};\n",
              "scope.google.colab._files = {\n",
              "  _uploadFiles,\n",
              "  _uploadFilesContinue,\n",
              "};\n",
              "})(self);\n",
              "</script> "
            ]
          },
          "metadata": {}
        },
        {
          "output_type": "stream",
          "name": "stdout",
          "text": [
            "Saving kaggle.json to kaggle.json\n"
          ]
        }
      ],
      "source": [
        "from google.colab import files\n",
        "uploaded = files.upload()"
      ]
    },
    {
      "cell_type": "code",
      "source": [
        " ! mkdir ~/.kaggle\n",
        " ! cp kaggle.json ~/.kaggle/\n",
        " ! chmod 600 ~/.kaggle/kaggle.json"
      ],
      "metadata": {
        "id": "oV4HZODX10tw"
      },
      "execution_count": 2,
      "outputs": []
    },
    {
      "cell_type": "code",
      "source": [
        "! kaggle competitions download -c ml2022spring-hw4\n",
        "! unzip -q /content/ml2022spring-hw4.zip"
      ],
      "metadata": {
        "colab": {
          "base_uri": "https://localhost:8080/"
        },
        "id": "RYpuyuaD2L6i",
        "outputId": "f63c7428-2d11-438b-e2fb-a34778fbe488"
      },
      "execution_count": 3,
      "outputs": [
        {
          "output_type": "stream",
          "name": "stdout",
          "text": [
            "Downloading ml2022spring-hw4.zip to /content\n",
            "100% 5.80G/5.82G [00:48<00:00, 176MB/s]\n",
            "100% 5.82G/5.82G [00:48<00:00, 129MB/s]\n"
          ]
        }
      ]
    },
    {
      "cell_type": "markdown",
      "source": [
        "Fix seeed"
      ],
      "metadata": {
        "id": "kfU0lnhU4BhN"
      }
    },
    {
      "cell_type": "code",
      "source": [
        "import numpy as np\n",
        "import torch\n",
        "import random\n",
        "\n",
        "def set_seed(seed):\n",
        "    np.random.seed(seed)\n",
        "    random.seed(seed)\n",
        "    torch.manual_seed(seed)\n",
        "    if torch.cuda.is_available():\n",
        "        torch.cuda.manual_seed(seed)\n",
        "        torch.cuda.manual_seed_all(seed)\n",
        "    torch.backends.cudnn.benchmark = False\n",
        "    torch.backends.cudnn.deterministic = True\n",
        "\n",
        "set_seed(87)"
      ],
      "metadata": {
        "id": "eOWshwAJ4A3j"
      },
      "execution_count": 4,
      "outputs": []
    },
    {
      "cell_type": "markdown",
      "source": [
        "# Data preprocessing"
      ],
      "metadata": {
        "id": "LCY1Md1s4GK0"
      }
    },
    {
      "cell_type": "markdown",
      "source": [
        "- Original dataset is Voxceleb2.\n",
        "- Randomly select 600 speakers from Voxceleb2.\n",
        "- Preprocess the raw waveforms into mel-spectrograms.\n",
        "- Args:\n",
        " - data_dir: The path to the data directory.\n",
        " - metadata_path: The path to the metadata.\n",
        " - segment_len: The length of audio segment for training.\n",
        "- The architecture of data directory \n",
        " - data directory\n",
        "\n",
        " |---- metadata.json \\ |---- testdata.json \\ |---- mapping.json \\ |---- uttr-{random string}.pt \\\n",
        "- The information in metadata:\n",
        " - \"n_mels\": The dimention of mel-spectrogram.\n",
        " - \"speakers\": A dictionary. \n",
        "   - Key: speaker ids.\n",
        "   - value: \"feature_path\" and \"mel_len\"\n",
        "\n",
        "\n",
        "\n"
      ],
      "metadata": {
        "id": "96MjsFm_4MYX"
      }
    },
    {
      "cell_type": "markdown",
      "source": [
        "## Dataset"
      ],
      "metadata": {
        "id": "JVS8sn5_80hy"
      }
    },
    {
      "cell_type": "code",
      "source": [
        "# For efficiency, we segment the mel-spectrograms into segments in the traing step.\n",
        "\n",
        "import os\n",
        "import json\n",
        "import torch\n",
        "import random\n",
        "from pathlib import Path\n",
        "from torch.utils.data import Dataset\n",
        "from torch.nn.utils.rnn import pad_sequence\n",
        " \n",
        " \n",
        "class myDataset(Dataset):\n",
        "\tdef __init__(self, data_dir, segment_len=128):\n",
        "\t\tself.data_dir = data_dir\n",
        "\t\tself.segment_len = segment_len\n",
        "\t\n",
        "\t\t# Load the mapping from speaker neme to their corresponding id. \n",
        "\t\tmapping_path = Path(data_dir) / \"mapping.json\"\n",
        "\t\tmapping = json.load(mapping_path.open())\n",
        "\t\tself.speaker2id = mapping[\"speaker2id\"]\n",
        "\t\n",
        "\t\t# Load metadata of training data.\n",
        "\t\tmetadata_path = Path(data_dir) / \"metadata.json\"\n",
        "\t\tmetadata = json.load(open(metadata_path))[\"speakers\"]\n",
        "\t\n",
        "\t\t# Get the total number of speaker.\n",
        "\t\tself.speaker_num = len(metadata.keys())\n",
        "\t\tself.data = []\n",
        "\t\tfor speaker in metadata.keys():\n",
        "\t\t\tfor utterances in metadata[speaker]:\n",
        "\t\t\t\tself.data.append([utterances[\"feature_path\"], self.speaker2id[speaker]])\n",
        " \n",
        "\tdef __len__(self):\n",
        "\t\t\treturn len(self.data)\n",
        " \n",
        "\tdef __getitem__(self, index):\n",
        "\t\tfeat_path, speaker = self.data[index]\n",
        "\t\t# Load preprocessed mel-spectrogram.\n",
        "\t\tmel = torch.load(os.path.join(self.data_dir, feat_path))\n",
        "\n",
        "\t\t# Segmemt mel-spectrogram into \"segment_len\" frames.\n",
        "\t\tif len(mel) > self.segment_len:\n",
        "\t\t\t# Randomly get the starting point of the segment.\n",
        "\t\t\tstart = random.randint(0, len(mel) - self.segment_len)\n",
        "\t\t\t# Get a segment with \"segment_len\" frames.\n",
        "\t\t\tmel = torch.FloatTensor(mel[start:start+self.segment_len])\n",
        "\t\telse:\n",
        "\t\t\tmel = torch.FloatTensor(mel)\n",
        "\t\t# Turn the speaker id into long for computing loss later.\n",
        "\t\tspeaker = torch.FloatTensor([speaker]).long()\n",
        "\t\treturn mel, speaker\n",
        " \n",
        "\tdef get_speaker_number(self):\n",
        "\t\treturn self.speaker_num"
      ],
      "metadata": {
        "id": "wKr73Cr94Doi"
      },
      "execution_count": 5,
      "outputs": []
    },
    {
      "cell_type": "markdown",
      "source": [
        "## Dataloader"
      ],
      "metadata": {
        "id": "FXNC3YL483jQ"
      }
    },
    {
      "cell_type": "markdown",
      "source": [
        "- Split dataset into training dataset(90%) and validation dataset(10%).\n",
        "- Create dataloader to iterate the data."
      ],
      "metadata": {
        "id": "b1PdAOGX87gZ"
      }
    },
    {
      "cell_type": "code",
      "source": [
        "from torch.utils.data import DataLoader, random_split\n",
        "from torch.nn.utils.rnn import pad_sequence\n",
        "\n",
        "\n",
        "def collate_batch(batch):\n",
        "\t# Process features within a batch.\n",
        "\t\"\"\"Collate a batch of data.\"\"\"\n",
        "\tmel, speaker = zip(*batch)\n",
        "\t# Because we train the model batch by batch, we need to pad the features in the same batch to make their lengths the same.\n",
        "\tmel = pad_sequence(mel, batch_first=True, padding_value=-20)    # pad log 10^(-20) which is very small value.\n",
        "\t# mel: (batch size, length, 40)\n",
        "\treturn mel, torch.FloatTensor(speaker).long()\n",
        "\n",
        "\n",
        "def get_dataloader(data_dir, batch_size, n_workers):\n",
        "\t\"\"\"Generate dataloader\"\"\"\n",
        "\tdataset = myDataset(data_dir)\n",
        "\tspeaker_num = dataset.get_speaker_number()\n",
        "\t# Split dataset into training dataset and validation dataset\n",
        "\ttrainlen = int(0.9 * len(dataset))\n",
        "\tlengths = [trainlen, len(dataset) - trainlen]\n",
        "\ttrainset, validset = random_split(dataset, lengths)\n",
        "\n",
        "\ttrain_loader = DataLoader(\n",
        "\t\ttrainset,\n",
        "\t\tbatch_size=batch_size,\n",
        "\t\tshuffle=True,\n",
        "\t\tdrop_last=True,\n",
        "\t\tnum_workers=n_workers,\n",
        "\t\tpin_memory=True,\n",
        "\t\tcollate_fn=collate_batch,\n",
        "\t)\n",
        "\tvalid_loader = DataLoader(\n",
        "\t\tvalidset,\n",
        "\t\tbatch_size=batch_size,\n",
        "\t\tnum_workers=n_workers,\n",
        "\t\tdrop_last=True,\n",
        "\t\tpin_memory=True,\n",
        "\t\tcollate_fn=collate_batch,\n",
        "\t)\n",
        "\n",
        "\treturn train_loader, valid_loader, speaker_num\n",
        "     "
      ],
      "metadata": {
        "id": "XLCFyhdz8wLI"
      },
      "execution_count": 6,
      "outputs": []
    },
    {
      "cell_type": "markdown",
      "source": [
        "# Model"
      ],
      "metadata": {
        "id": "4OL7TGBG-NgQ"
      }
    },
    {
      "cell_type": "markdown",
      "source": [
        "- TransformerEncoderLayer:\n",
        "  - Base transformer encoder layer in Attention Is All You Need\n",
        "  - Parameters:\n",
        "    - d_model: the number of expected features of the input (required).\n",
        "    - nhead: the number of heads of the multiheadattention models (required).\n",
        "    - dim_feedforward: the dimension of the feedforward network model (default=2048).\n",
        "    - dropout: the dropout value (default=0.1).\n",
        "    - activation: the activation function of intermediate layer, relu or gelu (default=relu).\n",
        "- TransformerEncoder:\n",
        "  - TransformerEncoder is a stack of N transformer encoder layers\n",
        "  - Parameters:\n",
        "    - encoder_layer: an instance of the TransformerEncoderLayer() class (required).\n",
        "    - num_layers: the number of sub-encoder-layers in the encoder (required).\n",
        "    - norm: the layer normalization component (optional)."
      ],
      "metadata": {
        "id": "f9PuOP7To6k2"
      }
    },
    {
      "cell_type": "code",
      "source": [
        "import torch\n",
        "import torch.nn as nn\n",
        "import torch.nn.functional as F\n",
        "\n",
        "\n",
        "class Classifier(nn.Module):\n",
        "\tdef __init__(self, d_model=80, n_spks=600, dropout=0.1):\n",
        "\t\tsuper().__init__()\n",
        "\t\t# Project the dimension of features from that of input into d_model.\n",
        "\t\tself.prenet = nn.Linear(40, d_model)\n",
        "\t\t# TODO:\n",
        "\t\t#   Change Transformer to Conformer.\n",
        "\t\t#   https://arxiv.org/abs/2005.08100\n",
        "\t\tself.encoder_layer = nn.TransformerEncoderLayer(\n",
        "\t\t\td_model=d_model, dim_feedforward=256, nhead=2\n",
        "\t\t)\n",
        "\t\t# self.encoder = nn.TransformerEncoder(self.encoder_layer, num_layers=2)\n",
        "\n",
        "\t\t# Project the the dimension of features from d_model into speaker nums.\n",
        "\t\tself.pred_layer = nn.Sequential(\n",
        "\t\t\tnn.Linear(d_model, d_model),\n",
        "\t\t\tnn.ReLU(),\n",
        "\t\t\tnn.Linear(d_model, n_spks),\n",
        "\t\t)\n",
        "\n",
        "\tdef forward(self, mels):\n",
        "\t\t\"\"\"\n",
        "\t\targs:\n",
        "\t\t\tmels: (batch size, length, 40)\n",
        "\t\treturn:\n",
        "\t\t\tout: (batch size, n_spks)\n",
        "\t\t\"\"\"\n",
        "\t\t# out: (batch size, length, d_model)\n",
        "\t\tout = self.prenet(mels)\n",
        "\t\t# out: (length, batch size, d_model)\n",
        "\t\tout = out.permute(1, 0, 2)\n",
        "\t\t# The encoder layer expect features in the shape of (length, batch size, d_model).\n",
        "\t\tout = self.encoder_layer(out)\n",
        "\t\t# out: (batch size, length, d_model)\n",
        "\t\tout = out.transpose(0, 1)\n",
        "\t\t# mean pooling\n",
        "\t\tstats = out.mean(dim=1)\n",
        "\n",
        "\t\t# out: (batch, n_spks)\n",
        "\t\tout = self.pred_layer(stats)\n",
        "\t\treturn out\n",
        "     "
      ],
      "metadata": {
        "id": "0Smj438TpsUy"
      },
      "execution_count": 7,
      "outputs": []
    },
    {
      "cell_type": "markdown",
      "source": [
        "## Learning rate schedule"
      ],
      "metadata": {
        "id": "aT_7_4VAs_KI"
      }
    },
    {
      "cell_type": "markdown",
      "source": [
        "- For transformer architecture, the design of learning rate schedule is different from that of CNN.\n",
        "- Previous works show that the warmup of learning rate is useful for training models with transformer architectures.\n",
        "- The warmup schedule\n",
        " - Set learning rate to 0 in the beginning.\n",
        " - The learning rate increases linearly from 0 to initial learning rate during warmup period.\n"
      ],
      "metadata": {
        "id": "jvn6xL5DtDaw"
      }
    },
    {
      "cell_type": "code",
      "source": [
        "import math\n",
        "\n",
        "from torch.optim import Optimizer\n",
        "from torch.optim.lr_scheduler import LambdaLR\n",
        "\n",
        "\n",
        "def get_cosine_schedule_with_warmup(\n",
        "\toptimizer: Optimizer,\n",
        "\tnum_warmup_steps: int,\n",
        "\tnum_training_steps: int,\n",
        "\tnum_cycles: float = 0.5,\n",
        "\tlast_epoch: int = -1,\n",
        "):\n",
        "\t\"\"\"\n",
        "\tCreate a schedule with a learning rate that decreases following the values of the cosine function between the\n",
        "\tinitial lr set in the optimizer to 0, after a warmup period during which it increases linearly between 0 and the\n",
        "\tinitial lr set in the optimizer.\n",
        "\n",
        "\tArgs:\n",
        "\t\toptimizer (:class:`~torch.optim.Optimizer`):\n",
        "\t\tThe optimizer for which to schedule the learning rate.\n",
        "\t\tnum_warmup_steps (:obj:`int`):\n",
        "\t\tThe number of steps for the warmup phase.\n",
        "\t\tnum_training_steps (:obj:`int`):\n",
        "\t\tThe total number of training steps.\n",
        "\t\tnum_cycles (:obj:`float`, `optional`, defaults to 0.5):\n",
        "\t\tThe number of waves in the cosine schedule (the defaults is to just decrease from the max value to 0\n",
        "\t\tfollowing a half-cosine).\n",
        "\t\tlast_epoch (:obj:`int`, `optional`, defaults to -1):\n",
        "\t\tThe index of the last epoch when resuming training.\n",
        "\n",
        "\tReturn:\n",
        "\t\t:obj:`torch.optim.lr_scheduler.LambdaLR` with the appropriate schedule.\n",
        "\t\"\"\"\n",
        "\tdef lr_lambda(current_step):\n",
        "\t\t# Warmup\n",
        "\t\tif current_step < num_warmup_steps:\n",
        "\t\t\treturn float(current_step) / float(max(1, num_warmup_steps))\n",
        "\t\t# decadence\n",
        "\t\tprogress = float(current_step - num_warmup_steps) / float(\n",
        "\t\t\tmax(1, num_training_steps - num_warmup_steps)\n",
        "\t\t)\n",
        "\t\treturn max(\n",
        "\t\t\t0.0, 0.5 * (1.0 + math.cos(math.pi * float(num_cycles) * 2.0 * progress))\n",
        "\t\t)\n",
        "\n",
        "\treturn LambdaLR(optimizer, lr_lambda, last_epoch)"
      ],
      "metadata": {
        "id": "a_-B-3lts8aJ"
      },
      "execution_count": 8,
      "outputs": []
    },
    {
      "cell_type": "markdown",
      "source": [
        "## Loss and validation function"
      ],
      "metadata": {
        "id": "2qJXgOk8xXge"
      }
    },
    {
      "cell_type": "code",
      "source": [
        "def model_fn(batch, model, criterion, device):\n",
        "\t\"\"\"Forward a batch through the model.\"\"\"\n",
        "\n",
        "\tmels, labels = batch\n",
        "\tmels = mels.to(device)\n",
        "\tlabels = labels.to(device)\n",
        "\n",
        "\touts = model(mels)\n",
        "\n",
        "\tloss = criterion(outs, labels)\n",
        "\n",
        "\t# Get the speaker id with highest probability.\n",
        "\tpreds = outs.argmax(1)\n",
        "\t# Compute accuracy.\n",
        "\taccuracy = torch.mean((preds == labels).float())\n",
        "\n",
        "\treturn loss, accuracy"
      ],
      "metadata": {
        "id": "_aHACMuJxSgH"
      },
      "execution_count": 9,
      "outputs": []
    },
    {
      "cell_type": "code",
      "source": [
        "from tqdm import tqdm\n",
        "\n",
        "def valid(dataloader, model, criterion, device): \n",
        "\t\"\"\"Validate on validation set.\"\"\"\n",
        "\n",
        "\tmodel.eval()\n",
        "\trunning_loss = 0.0\n",
        "\trunning_accuracy = 0.0\n",
        "\tpbar = tqdm(total=len(dataloader.dataset), ncols=0, desc=\"Valid\", unit=\" uttr\")\n",
        "\n",
        "\tfor i, batch in enumerate(dataloader):\n",
        "\t\twith torch.no_grad():\n",
        "\t\t\tloss, accuracy = model_fn(batch, model, criterion, device)\n",
        "\t\t\trunning_loss += loss.item()\n",
        "\t\t\trunning_accuracy += accuracy.item()\n",
        "\n",
        "\t\tpbar.update(dataloader.batch_size)\n",
        "\t\tpbar.set_postfix(\n",
        "\t\t\tloss=f\"{running_loss / (i+1):.2f}\",\n",
        "\t\t\taccuracy=f\"{running_accuracy / (i+1):.2f}\",\n",
        "\t\t)\n",
        "\n",
        "\tpbar.close()\n",
        "\tmodel.train()\n",
        "\n",
        "\treturn running_accuracy / len(dataloader)"
      ],
      "metadata": {
        "id": "Vg2Ejr41xfD9"
      },
      "execution_count": 10,
      "outputs": []
    },
    {
      "cell_type": "markdown",
      "source": [
        "# Main function"
      ],
      "metadata": {
        "id": "rTBL6-GUtrO_"
      }
    },
    {
      "cell_type": "code",
      "source": [
        "from torch.optim import AdamW\n",
        "from torch.utils.data import DataLoader, random_split\n",
        "\n",
        "\n",
        "def parse_args():\n",
        "\t\"\"\"arguments\"\"\"\n",
        "\tconfig = {\n",
        "\t\t\"data_dir\": \"./Dataset\",\n",
        "\t\t\"save_path\": \"model.ckpt\",\n",
        "\t\t\"batch_size\": 32,\n",
        "\t\t\"n_workers\": 8,\n",
        "\t\t\"valid_steps\": 2000,\n",
        "\t\t\"warmup_steps\": 1000,\n",
        "\t\t\"save_steps\": 10000,\n",
        "\t\t\"total_steps\": 70000,\n",
        "\t}\n",
        "\n",
        "\treturn config\n",
        "\n",
        "\n",
        "def main(\n",
        "\tdata_dir,\n",
        "\tsave_path,\n",
        "\tbatch_size,\n",
        "\tn_workers,\n",
        "\tvalid_steps,\n",
        "\twarmup_steps,\n",
        "\ttotal_steps,\n",
        "\tsave_steps,\n",
        "):\n",
        "\t\"\"\"Main function.\"\"\"\n",
        "\tdevice = torch.device(\"cuda\" if torch.cuda.is_available() else \"cpu\")\n",
        "\tprint(f\"[Info]: Use {device} now!\")\n",
        "\n",
        "\ttrain_loader, valid_loader, speaker_num = get_dataloader(data_dir, batch_size, n_workers)\n",
        "\ttrain_iterator = iter(train_loader)\n",
        "\tprint(f\"[Info]: Finish loading data!\",flush = True)\n",
        "\n",
        "\tmodel = Classifier(n_spks=speaker_num).to(device)\n",
        "\tcriterion = nn.CrossEntropyLoss()\n",
        "\toptimizer = AdamW(model.parameters(), lr=1e-3)\n",
        "\tscheduler = get_cosine_schedule_with_warmup(optimizer, warmup_steps, total_steps)\n",
        "\tprint(f\"[Info]: Finish creating model!\",flush = True)\n",
        "\n",
        "\tbest_accuracy = -1.0\n",
        "\tbest_state_dict = None\n",
        "\n",
        "\tpbar = tqdm(total=valid_steps, ncols=0, desc=\"Train\", unit=\" step\")\n",
        "\n",
        "\tfor step in range(total_steps):\n",
        "\t\t# Get data\n",
        "\t\ttry:\n",
        "\t\t\tbatch = next(train_iterator)\n",
        "\t\texcept StopIteration:\n",
        "\t\t\ttrain_iterator = iter(train_loader)\n",
        "\t\t\tbatch = next(train_iterator)\n",
        "\n",
        "\t\tloss, accuracy = model_fn(batch, model, criterion, device)\n",
        "\t\tbatch_loss = loss.item()\n",
        "\t\tbatch_accuracy = accuracy.item()\n",
        "\n",
        "\t\t# Updata model\n",
        "\t\tloss.backward()\n",
        "\t\toptimizer.step()\n",
        "\t\tscheduler.step()\n",
        "\t\toptimizer.zero_grad()\n",
        "\n",
        "\t\t# Log\n",
        "\t\tpbar.update()\n",
        "\t\tpbar.set_postfix(\n",
        "\t\t\tloss=f\"{batch_loss:.2f}\",\n",
        "\t\t\taccuracy=f\"{batch_accuracy:.2f}\",\n",
        "\t\t\tstep=step + 1,\n",
        "\t\t)\n",
        "\n",
        "\t\t# Do validation\n",
        "\t\tif (step + 1) % valid_steps == 0:\n",
        "\t\t\tpbar.close()\n",
        "\n",
        "\t\t\tvalid_accuracy = valid(valid_loader, model, criterion, device)\n",
        "\n",
        "\t\t\t# keep the best model\n",
        "\t\t\tif valid_accuracy > best_accuracy:\n",
        "\t\t\t\tbest_accuracy = valid_accuracy\n",
        "\t\t\t\tbest_state_dict = model.state_dict()\n",
        "\n",
        "\t\t\tpbar = tqdm(total=valid_steps, ncols=0, desc=\"Train\", unit=\" step\")\n",
        "\n",
        "\t\t# Save the best model so far.\n",
        "\t\tif (step + 1) % save_steps == 0 and best_state_dict is not None:\n",
        "\t\t\ttorch.save(best_state_dict, save_path)\n",
        "\t\t\tpbar.write(f\"Step {step + 1}, best model saved. (accuracy={best_accuracy:.4f})\")\n",
        "\n",
        "\tpbar.close()\n",
        "\n",
        "\n",
        "if __name__ == \"__main__\":\n",
        "\tmain(**parse_args())"
      ],
      "metadata": {
        "colab": {
          "base_uri": "https://localhost:8080/"
        },
        "id": "MUAOJN78tmor",
        "outputId": "bbb4b636-6670-447a-c051-0e32771e9415"
      },
      "execution_count": 11,
      "outputs": [
        {
          "output_type": "stream",
          "name": "stdout",
          "text": [
            "[Info]: Use cuda now!\n"
          ]
        },
        {
          "output_type": "stream",
          "name": "stderr",
          "text": [
            "/usr/local/lib/python3.8/dist-packages/torch/utils/data/dataloader.py:554: UserWarning: This DataLoader will create 8 worker processes in total. Our suggested max number of worker in current system is 2, which is smaller than what this DataLoader is going to create. Please be aware that excessive worker creation might get DataLoader running slow or even freeze, lower the worker number to avoid potential slowness/freeze if necessary.\n",
            "  warnings.warn(_create_warning_msg(\n"
          ]
        },
        {
          "output_type": "stream",
          "name": "stdout",
          "text": [
            "[Info]: Finish loading data!\n",
            "[Info]: Finish creating model!\n"
          ]
        },
        {
          "output_type": "stream",
          "name": "stderr",
          "text": [
            "Train: 100% 2000/2000 [01:36<00:00, 20.63 step/s, accuracy=0.12, loss=3.87, step=2000]\n",
            "Valid: 100% 5664/5667 [00:08<00:00, 648.75 uttr/s, accuracy=0.16, loss=4.08]\n",
            "Train: 100% 2000/2000 [01:03<00:00, 31.29 step/s, accuracy=0.25, loss=3.56, step=4000]\n",
            "Valid: 100% 5664/5667 [00:09<00:00, 628.42 uttr/s, accuracy=0.26, loss=3.52]\n",
            "Train: 100% 2000/2000 [00:53<00:00, 37.73 step/s, accuracy=0.41, loss=2.82, step=6000]\n",
            "Valid: 100% 5664/5667 [00:05<00:00, 974.38 uttr/s, accuracy=0.34, loss=2.99] \n",
            "Train: 100% 2000/2000 [00:55<00:00, 35.73 step/s, accuracy=0.38, loss=2.60, step=8000]\n",
            "Valid: 100% 5664/5667 [00:04<00:00, 1378.82 uttr/s, accuracy=0.39, loss=2.74]\n",
            "Train: 100% 2000/2000 [00:49<00:00, 40.44 step/s, accuracy=0.22, loss=2.96, step=1e+4]\n",
            "Valid: 100% 5664/5667 [00:03<00:00, 1699.86 uttr/s, accuracy=0.43, loss=2.59]\n",
            "Train:   0% 10/2000 [00:00<00:45, 43.28 step/s, accuracy=0.56, loss=1.84, step=1e+4]"
          ]
        },
        {
          "output_type": "stream",
          "name": "stdout",
          "text": [
            "Step 10000, best model saved. (accuracy=0.4281)\n"
          ]
        },
        {
          "output_type": "stream",
          "name": "stderr",
          "text": [
            "Train: 100% 2000/2000 [00:45<00:00, 43.82 step/s, accuracy=0.44, loss=2.70, step=12000]\n",
            "Valid: 100% 5664/5667 [00:11<00:00, 507.24 uttr/s, accuracy=0.47, loss=2.39]\n",
            "Train: 100% 2000/2000 [00:42<00:00, 46.56 step/s, accuracy=0.62, loss=1.53, step=14000]\n",
            "Valid: 100% 5664/5667 [00:04<00:00, 1366.72 uttr/s, accuracy=0.47, loss=2.38]\n",
            "Train: 100% 2000/2000 [00:42<00:00, 47.21 step/s, accuracy=0.50, loss=2.69, step=16000]\n",
            "Valid: 100% 5664/5667 [00:03<00:00, 1869.31 uttr/s, accuracy=0.50, loss=2.23]\n",
            "Train: 100% 2000/2000 [00:41<00:00, 48.15 step/s, accuracy=0.56, loss=1.73, step=18000]\n",
            "Valid: 100% 5664/5667 [00:03<00:00, 1859.36 uttr/s, accuracy=0.50, loss=2.23]\n",
            "Train: 100% 2000/2000 [00:41<00:00, 48.29 step/s, accuracy=0.56, loss=1.97, step=2e+4]\n",
            "Valid: 100% 5664/5667 [00:03<00:00, 1827.33 uttr/s, accuracy=0.53, loss=2.08]\n",
            "Train:   0% 10/2000 [00:00<00:42, 46.48 step/s, accuracy=0.56, loss=2.29, step=2e+4]"
          ]
        },
        {
          "output_type": "stream",
          "name": "stdout",
          "text": [
            "Step 20000, best model saved. (accuracy=0.5330)\n"
          ]
        },
        {
          "output_type": "stream",
          "name": "stderr",
          "text": [
            "Train: 100% 2000/2000 [00:41<00:00, 48.27 step/s, accuracy=0.56, loss=1.98, step=22000]\n",
            "Valid: 100% 5664/5667 [00:04<00:00, 1384.13 uttr/s, accuracy=0.53, loss=2.07]\n",
            "Train: 100% 2000/2000 [00:42<00:00, 47.61 step/s, accuracy=0.53, loss=1.61, step=24000]\n",
            "Valid: 100% 5664/5667 [00:03<00:00, 1867.19 uttr/s, accuracy=0.56, loss=1.96]\n",
            "Train: 100% 2000/2000 [00:41<00:00, 48.10 step/s, accuracy=0.66, loss=1.61, step=26000]\n",
            "Valid: 100% 5664/5667 [00:03<00:00, 1886.28 uttr/s, accuracy=0.57, loss=1.91]\n",
            "Train: 100% 2000/2000 [00:41<00:00, 48.42 step/s, accuracy=0.44, loss=1.68, step=28000]\n",
            "Valid: 100% 5664/5667 [00:03<00:00, 1700.60 uttr/s, accuracy=0.54, loss=2.00]\n",
            "Train: 100% 2000/2000 [00:41<00:00, 48.56 step/s, accuracy=0.56, loss=1.83, step=3e+4]\n",
            "Valid: 100% 5664/5667 [00:03<00:00, 1445.15 uttr/s, accuracy=0.58, loss=1.86]\n",
            "Train:   1% 11/2000 [00:00<00:42, 47.29 step/s, accuracy=0.62, loss=1.56, step=3e+4]"
          ]
        },
        {
          "output_type": "stream",
          "name": "stdout",
          "text": [
            "Step 30000, best model saved. (accuracy=0.5768)\n"
          ]
        },
        {
          "output_type": "stream",
          "name": "stderr",
          "text": [
            "Train: 100% 2000/2000 [00:41<00:00, 47.81 step/s, accuracy=0.75, loss=1.05, step=32000]\n",
            "Valid: 100% 5664/5667 [00:03<00:00, 1831.96 uttr/s, accuracy=0.59, loss=1.81]\n",
            "Train: 100% 2000/2000 [00:41<00:00, 48.30 step/s, accuracy=0.56, loss=2.01, step=34000]\n",
            "Valid: 100% 5664/5667 [00:03<00:00, 1577.21 uttr/s, accuracy=0.59, loss=1.80]\n",
            "Train: 100% 2000/2000 [00:43<00:00, 46.37 step/s, accuracy=0.62, loss=1.35, step=36000]\n",
            "Valid: 100% 5664/5667 [00:04<00:00, 1388.71 uttr/s, accuracy=0.61, loss=1.75]\n",
            "Train: 100% 2000/2000 [00:41<00:00, 48.58 step/s, accuracy=0.69, loss=1.19, step=38000]\n",
            "Valid: 100% 5664/5667 [00:03<00:00, 1848.08 uttr/s, accuracy=0.61, loss=1.71]\n",
            "Train: 100% 2000/2000 [00:42<00:00, 47.58 step/s, accuracy=0.69, loss=1.51, step=4e+4]\n",
            "Valid: 100% 5664/5667 [00:03<00:00, 1855.14 uttr/s, accuracy=0.62, loss=1.70]\n",
            "Train:   0% 10/2000 [00:00<00:46, 42.96 step/s, accuracy=0.81, loss=1.03, step=4e+4]"
          ]
        },
        {
          "output_type": "stream",
          "name": "stdout",
          "text": [
            "Step 40000, best model saved. (accuracy=0.6165)\n"
          ]
        },
        {
          "output_type": "stream",
          "name": "stderr",
          "text": [
            "Train: 100% 2000/2000 [00:41<00:00, 48.34 step/s, accuracy=0.66, loss=1.17, step=42000]\n",
            "Valid: 100% 5664/5667 [00:03<00:00, 1618.84 uttr/s, accuracy=0.63, loss=1.64]\n",
            "Train: 100% 2000/2000 [00:41<00:00, 48.09 step/s, accuracy=0.72, loss=1.23, step=44000]\n",
            "Valid: 100% 5664/5667 [00:03<00:00, 1469.06 uttr/s, accuracy=0.64, loss=1.61]\n",
            "Train: 100% 2000/2000 [00:41<00:00, 48.35 step/s, accuracy=0.59, loss=1.71, step=46000]\n",
            "Valid: 100% 5664/5667 [00:03<00:00, 1838.84 uttr/s, accuracy=0.64, loss=1.61]\n",
            "Train: 100% 2000/2000 [00:41<00:00, 47.71 step/s, accuracy=0.78, loss=1.12, step=48000]\n",
            "Valid: 100% 5664/5667 [00:03<00:00, 1850.99 uttr/s, accuracy=0.64, loss=1.60]\n",
            "Train: 100% 2000/2000 [00:41<00:00, 48.11 step/s, accuracy=0.69, loss=1.12, step=5e+4]\n",
            "Valid: 100% 5664/5667 [00:03<00:00, 1545.47 uttr/s, accuracy=0.66, loss=1.52]\n",
            "Train:   0% 7/2000 [00:00<01:00, 32.68 step/s, accuracy=0.88, loss=0.94, step=5e+4]"
          ]
        },
        {
          "output_type": "stream",
          "name": "stdout",
          "text": [
            "Step 50000, best model saved. (accuracy=0.6600)\n"
          ]
        },
        {
          "output_type": "stream",
          "name": "stderr",
          "text": [
            "Train: 100% 2000/2000 [00:41<00:00, 48.72 step/s, accuracy=0.75, loss=0.93, step=52000]\n",
            "Valid: 100% 5664/5667 [00:03<00:00, 1551.17 uttr/s, accuracy=0.65, loss=1.54]\n",
            "Train: 100% 2000/2000 [00:41<00:00, 48.20 step/s, accuracy=0.69, loss=1.16, step=54000]\n",
            "Valid: 100% 5664/5667 [00:03<00:00, 1860.09 uttr/s, accuracy=0.66, loss=1.52]\n",
            "Train: 100% 2000/2000 [00:41<00:00, 47.74 step/s, accuracy=0.66, loss=1.17, step=56000]\n",
            "Valid: 100% 5664/5667 [00:03<00:00, 1844.49 uttr/s, accuracy=0.66, loss=1.49]\n",
            "Train: 100% 2000/2000 [00:41<00:00, 47.89 step/s, accuracy=0.66, loss=1.05, step=58000]\n",
            "Valid: 100% 5664/5667 [00:03<00:00, 1486.62 uttr/s, accuracy=0.67, loss=1.47]\n",
            "Train: 100% 2000/2000 [00:41<00:00, 48.42 step/s, accuracy=0.72, loss=1.43, step=6e+4]\n",
            "Valid: 100% 5664/5667 [00:03<00:00, 1526.94 uttr/s, accuracy=0.67, loss=1.48]\n",
            "Train:   0% 10/2000 [00:00<00:42, 47.20 step/s, accuracy=0.88, loss=0.70, step=6e+4]"
          ]
        },
        {
          "output_type": "stream",
          "name": "stdout",
          "text": [
            "Step 60000, best model saved. (accuracy=0.6679)\n"
          ]
        },
        {
          "output_type": "stream",
          "name": "stderr",
          "text": [
            "Train: 100% 2000/2000 [00:41<00:00, 48.38 step/s, accuracy=0.78, loss=0.68, step=62000]\n",
            "Valid: 100% 5664/5667 [00:03<00:00, 1850.18 uttr/s, accuracy=0.67, loss=1.44]\n",
            "Train: 100% 2000/2000 [00:41<00:00, 47.63 step/s, accuracy=0.84, loss=0.67, step=64000]\n",
            "Valid: 100% 5664/5667 [00:03<00:00, 1818.68 uttr/s, accuracy=0.67, loss=1.48]\n",
            "Train: 100% 2000/2000 [00:41<00:00, 48.10 step/s, accuracy=0.81, loss=0.68, step=66000]\n",
            "Valid: 100% 5664/5667 [00:03<00:00, 1455.59 uttr/s, accuracy=0.67, loss=1.44]\n",
            "Train: 100% 2000/2000 [00:41<00:00, 48.09 step/s, accuracy=0.88, loss=0.66, step=68000]\n",
            "Valid: 100% 5664/5667 [00:03<00:00, 1647.23 uttr/s, accuracy=0.68, loss=1.45]\n",
            "Train: 100% 2000/2000 [00:41<00:00, 48.41 step/s, accuracy=0.72, loss=1.11, step=7e+4]\n",
            "Valid: 100% 5664/5667 [00:03<00:00, 1857.14 uttr/s, accuracy=0.67, loss=1.46]\n",
            "Train:   0% 0/2000 [00:00<?, ? step/s]\n"
          ]
        },
        {
          "output_type": "stream",
          "name": "stdout",
          "text": [
            "Step 70000, best model saved. (accuracy=0.6762)\n"
          ]
        }
      ]
    },
    {
      "cell_type": "markdown",
      "source": [
        "# Inference"
      ],
      "metadata": {
        "id": "pZ9j92cgveoK"
      }
    },
    {
      "cell_type": "markdown",
      "source": [
        "## Dataset of inference"
      ],
      "metadata": {
        "id": "8U0GP_nSKGms"
      }
    },
    {
      "cell_type": "code",
      "source": [
        "import os\n",
        "import json\n",
        "import torch\n",
        "from pathlib import Path\n",
        "from torch.utils.data import Dataset\n",
        "\n",
        "\n",
        "class InferenceDataset(Dataset):\n",
        "\tdef __init__(self, data_dir):\n",
        "\t\ttestdata_path = Path(data_dir) / \"testdata.json\"\n",
        "\t\tmetadata = json.load(testdata_path.open())\n",
        "\t\tself.data_dir = data_dir\n",
        "\t\tself.data = metadata[\"utterances\"]\n",
        "\n",
        "\tdef __len__(self):\n",
        "\t\treturn len(self.data)\n",
        "\n",
        "\tdef __getitem__(self, index):\n",
        "\t\tutterance = self.data[index]\n",
        "\t\tfeat_path = utterance[\"feature_path\"]\n",
        "\t\tmel = torch.load(os.path.join(self.data_dir, feat_path))\n",
        "\n",
        "\t\treturn feat_path, mel\n",
        "\n",
        "\n",
        "def inference_collate_batch(batch):\n",
        "\t\"\"\"Collate a batch of data.\"\"\"\n",
        "\tfeat_paths, mels = zip(*batch)\n",
        "\n",
        "\treturn feat_paths, torch.stack(mels)\n",
        "     "
      ],
      "metadata": {
        "id": "Puopm9H5KF64"
      },
      "execution_count": null,
      "outputs": []
    },
    {
      "cell_type": "code",
      "source": [],
      "metadata": {
        "id": "K3gtemHyvgmE"
      },
      "execution_count": null,
      "outputs": []
    }
  ]
}